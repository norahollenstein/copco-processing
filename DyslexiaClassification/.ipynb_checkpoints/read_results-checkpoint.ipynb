{
 "cells": [
  {
   "cell_type": "code",
   "execution_count": 21,
   "id": "0036d3ae",
   "metadata": {},
   "outputs": [],
   "source": [
    "import ast\n",
    "import numpy as np"
   ]
  },
  {
   "cell_type": "code",
   "execution_count": 53,
   "id": "b0c33bca",
   "metadata": {},
   "outputs": [],
   "source": [
    "# classification level\n",
    "LEVEL = \"sentence\" # \"sentence\" or \"trial\"\n",
    "\n",
    "# include stadard deviation features\n",
    "st_dev_features = True # True or False\n",
    "max_features = True # True or False\n",
    "classifier = \"rf\" # rf, svm or lstm"
   ]
  },
  {
   "cell_type": "code",
   "execution_count": 67,
   "id": "c8ac701f",
   "metadata": {},
   "outputs": [],
   "source": [
    "if classifier == \"lstm\":\n",
    "    #result_file = open(classifier+\"_\"+LEVEL+\"_level_results.txt\", \"r\").readlines()\n",
    "else:\n",
    "    result_file = open(classifier+\"_\"+LEVEL+\"_level_results_std\"+str(st_dev_features)+\"_max\"+str(max_features)+\".txt\", \"r\").readlines()\n",
    "    "
   ]
  },
  {
   "cell_type": "code",
   "execution_count": 68,
   "id": "ed712888",
   "metadata": {},
   "outputs": [
    {
     "name": "stdout",
     "output_type": "stream",
     "text": [
      "{'non-dyslexic': {'precision': 0.6905940594059405, 'recall': 0.8313468414779499, 'f1-score': 0.7544618712817739, 'support': 1678}, 'dyslexic': {'precision': 0.8037447988904299, 'recall': 0.6496636771300448, 'f1-score': 0.7185368877867327, 'support': 1784}, 'accuracy': 0.7377238590410168, 'macro avg': {'precision': 0.7471694291481852, 'recall': 0.7405052593039974, 'f1-score': 0.7364993795342534, 'support': 3462}, 'weighted avg': {'precision': 0.7489016617283927, 'recall': 0.7377238590410168, 'f1-score': 0.7359494014507071, 'support': 3462}}\n",
      "{'non-dyslexic': {'precision': 0.7029893924783028, 'recall': 0.8350515463917526, 'f1-score': 0.7633507853403141, 'support': 1746}, 'dyslexic': {'precision': 0.792507204610951, 'recall': 0.6410256410256411, 'f1-score': 0.7087628865979382, 'support': 1716}, 'accuracy': 0.7388792605430387, 'macro avg': {'precision': 0.7477482985446269, 'recall': 0.7380385937086968, 'f1-score': 0.7360568359691262, 'support': 3462}, 'weighted avg': {'precision': 0.7473604397398927, 'recall': 0.7388792605430387, 'f1-score': 0.7362933519948729, 'support': 3462}}\n",
      "{'non-dyslexic': {'precision': 0.6928746928746928, 'recall': 0.8216783216783217, 'f1-score': 0.7517995201279658, 'support': 1716}, 'dyslexic': {'precision': 0.7855641205325858, 'recall': 0.6420389461626576, 'f1-score': 0.7065868263473053, 'support': 1746}, 'accuracy': 0.7310803004043905, 'macro avg': {'precision': 0.7392194067036393, 'recall': 0.7318586339204896, 'f1-score': 0.7291931732376356, 'support': 3462}, 'weighted avg': {'precision': 0.7396210073434049, 'recall': 0.7310803004043905, 'f1-score': 0.7289972776839931, 'support': 3462}}\n",
      "{'non-dyslexic': {'precision': 0.7023867510959572, 'recall': 0.8114800225098481, 'f1-score': 0.7530026109660574, 'support': 1777}, 'dyslexic': {'precision': 0.7622427253371186, 'recall': 0.6373887240356083, 'f1-score': 0.6942469295410472, 'support': 1685}, 'accuracy': 0.7267475447718083, 'macro avg': {'precision': 0.7323147382165378, 'recall': 0.7244343732727282, 'f1-score': 0.7236247702535523, 'support': 3462}, 'weighted avg': {'precision': 0.7315194248672908, 'recall': 0.7267475447718083, 'f1-score': 0.7244054638831162, 'support': 3462}}\n",
      "{'non-dyslexic': {'precision': 0.7094594594594594, 'recall': 0.8404802744425386, 'f1-score': 0.7694320858414028, 'support': 1749}, 'dyslexic': {'precision': 0.7992805755395683, 'recall': 0.6485697606538237, 'f1-score': 0.7160812117305833, 'support': 1713}, 'accuracy': 0.7455228191796649, 'macro avg': {'precision': 0.7543700174995138, 'recall': 0.7445250175481811, 'f1-score': 0.742756648785993, 'support': 3462}, 'weighted avg': {'precision': 0.7539030099635688, 'recall': 0.7455228191796649, 'f1-score': 0.7430340363463612, 'support': 3462}}\n"
     ]
    }
   ],
   "source": [
    "results = []\n",
    "for line in result_file:\n",
    "    res = ast.literal_eval(line)\n",
    "    print(res)\n",
    "    results.append(res)"
   ]
  },
  {
   "cell_type": "code",
   "execution_count": 69,
   "id": "7c0d7cdb",
   "metadata": {},
   "outputs": [
    {
     "name": "stdout",
     "output_type": "stream",
     "text": [
      "rf sentence True True\n",
      "Runs: 5\n",
      "Accuracy: 0.7360 (0.007)\n",
      "Precision: 0.7443 (0.008)\n",
      "Recall: 0.7360 (0.007)\n",
      "F1-score: 0.7337 (0.006)\n"
     ]
    }
   ],
   "source": [
    "accs = [run[\"accuracy\"] for run in results]\n",
    "precs = [run[\"weighted avg\"][\"precision\"] for run in results]\n",
    "recs = [run[\"weighted avg\"][\"recall\"] for run in results]\n",
    "fs = [run[\"weighted avg\"][\"f1-score\"] for run in results]\n",
    "\n",
    "print(classifier, LEVEL, st_dev_features, max_features)\n",
    "print(\"Runs:\", len(accs))\n",
    "print(\"Accuracy:\", \"{:.4f}\".format(np.mean(accs)), \"({:.3f})\".format(np.std(accs)))\n",
    "print(\"Precision:\", \"{:.4f}\".format(np.mean(precs)), \"({:.3f})\".format(np.std(precs)))\n",
    "print(\"Recall:\", \"{:.4f}\".format(np.mean(recs)), \"({:.3f})\".format(np.std(recs)))\n",
    "print(\"F1-score:\", \"{:.4f}\".format(np.mean(fs)), \"({:.3f})\".format(np.std(fs)))\n"
   ]
  },
  {
   "cell_type": "code",
   "execution_count": null,
   "id": "be251504",
   "metadata": {},
   "outputs": [],
   "source": []
  }
 ],
 "metadata": {
  "kernelspec": {
   "display_name": "Python 3",
   "language": "python",
   "name": "python3"
  },
  "language_info": {
   "codemirror_mode": {
    "name": "ipython",
    "version": 3
   },
   "file_extension": ".py",
   "mimetype": "text/x-python",
   "name": "python",
   "nbconvert_exporter": "python",
   "pygments_lexer": "ipython3",
   "version": "3.9.1"
  }
 },
 "nbformat": 4,
 "nbformat_minor": 5
}
