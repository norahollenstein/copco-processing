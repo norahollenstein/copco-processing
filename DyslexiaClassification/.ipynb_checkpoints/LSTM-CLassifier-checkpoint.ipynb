{
 "cells": [
  {
   "cell_type": "code",
   "execution_count": 1,
   "id": "45aa6936",
   "metadata": {},
   "outputs": [
    {
     "name": "stderr",
     "output_type": "stream",
     "text": [
      "/Users/tzp466/miniconda3/lib/python3.9/site-packages/scipy/__init__.py:138: UserWarning: A NumPy version >=1.16.5 and <1.23.0 is required for this version of SciPy (detected version 1.23.3)\n",
      "  warnings.warn(f\"A NumPy version >={np_minversion} and <{np_maxversion} is required for this version of \"\n"
     ]
    }
   ],
   "source": [
    "import pandas as pd\n",
    "import numpy as np\n",
    "import mat73\n",
    "import matplotlib.pyplot as plt\n",
    "import seaborn as sns\n",
    "import random\n",
    "import math\n",
    "import re\n",
    "from sklearn.utils import shuffle\n",
    "from sklearn.preprocessing import MinMaxScaler\n",
    "from keras.preprocessing.sequence import pad_sequences"
   ]
  },
  {
   "cell_type": "code",
   "execution_count": 2,
   "id": "35d41da4",
   "metadata": {},
   "outputs": [],
   "source": [
    "# classification level\n",
    "LEVEL = \"trial\" # \"trial or \"sentence\""
   ]
  },
  {
   "cell_type": "code",
   "execution_count": 3,
   "id": "e699c815",
   "metadata": {},
   "outputs": [
    {
     "name": "stdout",
     "output_type": "stream",
     "text": [
      "SHUFFLING SUBJECTS before loading data\n",
      "\n",
      "6155  samples.\n",
      "446434  words.\n"
     ]
    }
   ],
   "source": [
    "#load all non-dyslexic data\n",
    "nond_subjects = [\"02\", \"03\", \"04\", \"05\", \"06\", \"07\", \"08\", \"09\", \"10\", \"11\", \"12\", \"15\", \"16\", \"18\", \"19\", \"20\", \"21\", \"22\"] \n",
    "#01, 13, 14 and 17 excluded because of POOR calibration or attention disorder\n",
    "\n",
    "#shuffle subjects so that not always the same data is taken afterwards\n",
    "print(\"SHUFFLING SUBJECTS before loading data\")\n",
    "random.shuffle(nond_subjects)\n",
    "\n",
    "all_nond_data = pd.DataFrame()\n",
    "for subject in nond_subjects:\n",
    "    #print(subject)\n",
    "\n",
    "    subj_file = pd.read_csv('../ExtractedFeatures/P'+subject+'.csv')\n",
    "    subj_file = subj_file.fillna(0)\n",
    "    subj_file.insert(17, 'participantId', subject)\n",
    "    subj_file.insert(18, 'label', 0) #non-dyslexic\n",
    "\n",
    "    all_nond_data = pd.concat([all_nond_data, subj_file])\n",
    "\n",
    "if LEVEL == \"sentence\":\n",
    "    all_nond_data[\"uniqueID\"] = all_nond_data[\"participantId\"] + \"-\" + all_nond_data[\"speechId\"].astype(str) + \"-\" + all_nond_data[\"sentenceId\"].astype(str)\n",
    "elif LEVEL == \"trial\":\n",
    "    all_nond_data[\"uniqueID\"] = all_nond_data[\"participantId\"] + \"-\" + all_nond_data[\"speechId\"].astype(str) + \"-\" + all_nond_data[\"trialId\"].astype(str)\n",
    "\n",
    "print()\n",
    "print(len(all_nond_data.uniqueID.unique()), \" samples.\")\n",
    "print(len(all_nond_data), \" words.\")\n",
    "\n",
    "        "
   ]
  },
  {
   "cell_type": "code",
   "execution_count": 4,
   "id": "7e784c66",
   "metadata": {},
   "outputs": [
    {
     "name": "stdout",
     "output_type": "stream",
     "text": [
      "\n",
      "5093  samples.\n",
      "373791  words.\n"
     ]
    }
   ],
   "source": [
    "#load all dyslexic data\n",
    "dys_subjects = [\"23\",\"24\", \"25\", \"26\", \"27\", \"28\", \"29\", \"30\", \"31\", \"33\", \"34\", \"35\", \"36\", \"37\", \"38\", \"39\", \"40\", \"41\"] \n",
    "# excluding P32 because no dyslexia screening result\n",
    "\n",
    "all_dyslexic_data = pd.DataFrame()\n",
    "for subject in dys_subjects:\n",
    "    #print(subject)\n",
    "\n",
    "    subj_file = pd.read_csv('../ExtractedFeatures/P'+subject+'.csv')\n",
    "    subj_file = subj_file.fillna(0)\n",
    "    subj_file.insert(17, 'participantId', subject)\n",
    "    subj_file.insert(18, 'label', 1) #dyslexic\n",
    "        \n",
    "    all_dyslexic_data = pd.concat([all_dyslexic_data, subj_file])\n",
    "\n",
    "if LEVEL == \"sentence\":\n",
    "    all_dyslexic_data[\"uniqueID\"] = all_dyslexic_data[\"participantId\"] + \"-\" + all_dyslexic_data[\"speechId\"].astype(str) + \"-\" + all_dyslexic_data[\"sentenceId\"].astype(str)\n",
    "elif LEVEL == \"trial\":\n",
    "    all_dyslexic_data[\"uniqueID\"] = all_dyslexic_data[\"participantId\"] + \"-\" + all_dyslexic_data[\"speechId\"].astype(str) + \"-\" + all_dyslexic_data[\"trialId\"].astype(str)\n",
    "\n",
    "print()\n",
    "print(len(all_dyslexic_data.uniqueID.unique()), \" samples.\")\n",
    "print(len(all_dyslexic_data), \" words.\")\n"
   ]
  },
  {
   "cell_type": "code",
   "execution_count": 5,
   "id": "c8a6c9b0",
   "metadata": {},
   "outputs": [
    {
     "name": "stdout",
     "output_type": "stream",
     "text": [
      "4144  dyslexic samples.\n",
      "293315 downsampled non-dyslexic words.\n",
      "8288  in total.\n"
     ]
    }
   ],
   "source": [
    "# get an equal number of samples per class and join dataframes\n",
    "max_no_samples = len(all_dyslexic_data.uniqueID.unique())\n",
    "print(max_no_samples, \" dyslexic samples.\")\n",
    "\n",
    "grouped_all_nond_data = all_nond_data.groupby('uniqueID')\n",
    "list_ds = [x[1] for x in list(grouped_all_nond_data)[:max_no_samples]]\n",
    "downsampled_nond = pd.concat(list_ds)\n",
    "\n",
    "print(len(downsampled_nond), \"downsampled non-dyslexic words.\")\n",
    "\n",
    "all_subjects_data = pd.concat([all_dyslexic_data,downsampled_nond])\n",
    "print(len(all_subjects_data.uniqueID.unique()), \" in total.\")\n"
   ]
  },
  {
   "cell_type": "code",
   "execution_count": 6,
   "id": "d912a31c",
   "metadata": {},
   "outputs": [
    {
     "name": "stdout",
     "output_type": "stream",
     "text": [
      "8288\n",
      "max sample length: 164\n"
     ]
    }
   ],
   "source": [
    "# get maximum sentence length\n",
    "grouped_sentences = all_subjects_data.groupby('uniqueID')\n",
    "\n",
    "max_sent_len = 0\n",
    "\n",
    "for name, sent in grouped_sentences:\n",
    "    \n",
    "    max_sent_len = len(sent) if len(sent) > max_sent_len else max_sent_len\n",
    "\n",
    "print(len(grouped_sentences))\n",
    "print(\"max sample length:\", max_sent_len)"
   ]
  },
  {
   "cell_type": "code",
   "execution_count": 7,
   "id": "c8617348",
   "metadata": {},
   "outputs": [
    {
     "name": "stdout",
     "output_type": "stream",
     "text": [
      "8288\n",
      "8288 8288\n"
     ]
    }
   ],
   "source": [
    "# convert data to numpy array\n",
    "\n",
    "print(len(grouped_sentences))\n",
    "\n",
    "list_sentences = []\n",
    "list_labels = []\n",
    "\n",
    "for sid, sent in grouped_sentences:\n",
    "    # replace NaNs with zero\n",
    "    sent = sent.fillna(float(0))\n",
    "    \n",
    "    # convert to arrays with features and arrays with labels\n",
    "    np_sent = sent.iloc[:, -12:-4].to_numpy(dtype=np.float64) #-13 if we include landing position\n",
    "    #print(sent.iloc[:, -12:-4])\n",
    "    np_label = np.array([1, 0], dtype=np.float64) if int(sent['label'].unique()[0]) == 1 else np.array([0, 1], dtype=np.float64)\n",
    "\n",
    "    list_sentences.append(np_sent)\n",
    "    list_labels.append(np_label)\n",
    "    \n",
    "print(len(list_sentences), len(list_labels))\n"
   ]
  },
  {
   "cell_type": "code",
   "execution_count": 8,
   "id": "3db1443b",
   "metadata": {},
   "outputs": [
    {
     "data": {
      "text/plain": [
       "(8288, 164, 8)"
      ]
     },
     "execution_count": 8,
     "metadata": {},
     "output_type": "execute_result"
    }
   ],
   "source": [
    "# pad sequences to max length\n",
    "list_sentences = pad_sequences(list_sentences, maxlen=max_sent_len, padding='post')\n",
    "list_sentences.shape"
   ]
  },
  {
   "cell_type": "code",
   "execution_count": 9,
   "id": "324cc9eb",
   "metadata": {},
   "outputs": [],
   "source": [
    "# shuffle sentences in dataset\n",
    "list_sentences, list_labels = shuffle(list_sentences, list_labels)"
   ]
  },
  {
   "cell_type": "code",
   "execution_count": 10,
   "id": "ddf1c039",
   "metadata": {},
   "outputs": [
    {
     "name": "stdout",
     "output_type": "stream",
     "text": [
      "(8288, 164, 8)\n",
      "(8288, 2)\n"
     ]
    }
   ],
   "source": [
    "# stack list of sentences into a np array in the shape <no. of sentences, no. of words, no. of features>\n",
    "x_dataset_arr = np.stack(list_sentences, axis=0)\n",
    "print(x_dataset_arr.shape)\n",
    "\n",
    "y_dataset_arr = np.stack(list_labels, axis=0)\n",
    "print(y_dataset_arr.shape)"
   ]
  },
  {
   "cell_type": "code",
   "execution_count": 11,
   "id": "7c36c0fa",
   "metadata": {},
   "outputs": [
    {
     "name": "stdout",
     "output_type": "stream",
     "text": [
      "Model: \"sequential\"\n",
      "_________________________________________________________________\n",
      "Layer (type)                 Output Shape              Param #   \n",
      "=================================================================\n",
      "lstm (LSTM)                  (None, 164, 32)           5248      \n",
      "_________________________________________________________________\n",
      "lstm_1 (LSTM)                (None, 16)                3136      \n",
      "_________________________________________________________________\n",
      "dense (Dense)                (None, 2)                 34        \n",
      "=================================================================\n",
      "Total params: 8,418\n",
      "Trainable params: 8,418\n",
      "Non-trainable params: 0\n",
      "_________________________________________________________________\n"
     ]
    }
   ],
   "source": [
    "# LSTM model\n",
    "from keras.models import Sequential\n",
    "from keras.layers import LSTM, Dense, Dropout\n",
    "from keras.callbacks import EarlyStopping, ModelCheckpoint\n",
    "import numpy as np\n",
    "\n",
    "model = Sequential()\n",
    "model.add(LSTM(32, return_sequences=True, input_shape=(x_dataset_arr.shape[1], x_dataset_arr.shape[2])))\n",
    "# todo: try dropout?\n",
    "#model.add(Dropout(0.3))\n",
    "model.add(LSTM(16))\n",
    "model.add(Dense(2, activation='sigmoid'))\n",
    "\n",
    "model.compile(loss='categorical_crossentropy', optimizer='rmsprop', metrics=['accuracy'])\n",
    "\n",
    "es = EarlyStopping(monitor='val_accuracy', mode=\"max\", patience=70)\n",
    "mc = ModelCheckpoint('best_lstm_model_'+LEVEL+'.h5', monitor='val_accuracy', mode='max', save_best_only=True, verbose=True)\n",
    "\n",
    "model.summary()"
   ]
  },
  {
   "cell_type": "code",
   "execution_count": null,
   "id": "6bcf1933",
   "metadata": {},
   "outputs": [],
   "source": []
  },
  {
   "cell_type": "code",
   "execution_count": 12,
   "id": "9733d006",
   "metadata": {},
   "outputs": [
    {
     "name": "stdout",
     "output_type": "stream",
     "text": [
      "(7459, 164, 8)\n",
      "(7459, 2)\n",
      "(829, 164, 8)\n",
      "(829, 2)\n"
     ]
    }
   ],
   "source": [
    "# Split training data\n",
    "split = int(len(x_dataset_arr) * 0.9)\n",
    "x_train = x_dataset_arr[:split]\n",
    "y_train = y_dataset_arr[:split]\n",
    "print(x_train.shape)\n",
    "print(y_train.shape)\n",
    "\n",
    "# Split test data\n",
    "x_test = x_dataset_arr[split:]\n",
    "y_test = y_dataset_arr[split:]\n",
    "print(x_test.shape)\n",
    "print(y_test.shape)"
   ]
  },
  {
   "cell_type": "code",
   "execution_count": 14,
   "id": "e7425433",
   "metadata": {},
   "outputs": [
    {
     "name": "stdout",
     "output_type": "stream",
     "text": [
      "Epoch 1/500\n",
      "53/53 [==============================] - 21s 92ms/step - loss: 0.7004 - accuracy: 0.4917 - val_loss: 0.6939 - val_accuracy: 0.4812\n",
      "\n",
      "Epoch 00001: val_accuracy improved from -inf to 0.48123, saving model to best_lstm_model_trial.h5\n",
      "Epoch 2/500\n",
      "53/53 [==============================] - 4s 78ms/step - loss: 0.6945 - accuracy: 0.4914 - val_loss: 0.6961 - val_accuracy: 0.4812\n",
      "\n",
      "Epoch 00002: val_accuracy did not improve from 0.48123\n",
      "Epoch 3/500\n",
      "53/53 [==============================] - 4s 78ms/step - loss: 0.6946 - accuracy: 0.5067 - val_loss: 0.6931 - val_accuracy: 0.5174\n",
      "\n",
      "Epoch 00003: val_accuracy improved from 0.48123 to 0.51743, saving model to best_lstm_model_trial.h5\n",
      "Epoch 4/500\n",
      "53/53 [==============================] - 4s 78ms/step - loss: 0.6944 - accuracy: 0.4806 - val_loss: 0.6934 - val_accuracy: 0.4799\n",
      "\n",
      "Epoch 00004: val_accuracy did not improve from 0.51743\n",
      "Epoch 5/500\n",
      "53/53 [==============================] - 4s 77ms/step - loss: 0.6939 - accuracy: 0.4975 - val_loss: 0.6936 - val_accuracy: 0.4812\n",
      "\n",
      "Epoch 00005: val_accuracy did not improve from 0.51743\n",
      "Epoch 6/500\n",
      "53/53 [==============================] - 4s 79ms/step - loss: 0.6936 - accuracy: 0.4931 - val_loss: 0.6928 - val_accuracy: 0.5174\n",
      "\n",
      "Epoch 00006: val_accuracy did not improve from 0.51743\n",
      "Epoch 7/500\n",
      "53/53 [==============================] - 4s 77ms/step - loss: 0.6936 - accuracy: 0.5036 - val_loss: 0.6926 - val_accuracy: 0.5174\n",
      "\n",
      "Epoch 00007: val_accuracy did not improve from 0.51743\n",
      "Epoch 8/500\n",
      "53/53 [==============================] - 4s 78ms/step - loss: 0.6937 - accuracy: 0.4980 - val_loss: 0.6926 - val_accuracy: 0.5174\n",
      "\n",
      "Epoch 00008: val_accuracy did not improve from 0.51743\n",
      "Epoch 9/500\n",
      "53/53 [==============================] - 4s 78ms/step - loss: 0.6937 - accuracy: 0.4949 - val_loss: 0.6928 - val_accuracy: 0.5174\n",
      "\n",
      "Epoch 00009: val_accuracy did not improve from 0.51743\n",
      "Epoch 10/500\n",
      "53/53 [==============================] - 4s 80ms/step - loss: 0.6934 - accuracy: 0.5002 - val_loss: 0.6927 - val_accuracy: 0.5174\n",
      "\n",
      "Epoch 00010: val_accuracy did not improve from 0.51743\n",
      "Epoch 11/500\n",
      "53/53 [==============================] - 4s 80ms/step - loss: 0.6931 - accuracy: 0.5149 - val_loss: 0.6982 - val_accuracy: 0.4812\n",
      "\n",
      "Epoch 00011: val_accuracy did not improve from 0.51743\n",
      "Epoch 12/500\n",
      "53/53 [==============================] - 4s 78ms/step - loss: 0.6936 - accuracy: 0.5044 - val_loss: 0.6933 - val_accuracy: 0.4812\n",
      "\n",
      "Epoch 00012: val_accuracy did not improve from 0.51743\n",
      "Epoch 13/500\n",
      "53/53 [==============================] - 4s 78ms/step - loss: 0.6933 - accuracy: 0.5046 - val_loss: 0.6935 - val_accuracy: 0.4812\n",
      "\n",
      "Epoch 00013: val_accuracy did not improve from 0.51743\n",
      "Epoch 14/500\n",
      "53/53 [==============================] - 4s 78ms/step - loss: 0.6933 - accuracy: 0.5119 - val_loss: 0.6949 - val_accuracy: 0.4812\n",
      "\n",
      "Epoch 00014: val_accuracy did not improve from 0.51743\n",
      "Epoch 15/500\n",
      "53/53 [==============================] - 4s 78ms/step - loss: 0.6933 - accuracy: 0.4994 - val_loss: 0.6935 - val_accuracy: 0.4812\n",
      "\n",
      "Epoch 00015: val_accuracy did not improve from 0.51743\n",
      "Epoch 16/500\n",
      "53/53 [==============================] - 4s 78ms/step - loss: 0.6932 - accuracy: 0.5063 - val_loss: 0.6931 - val_accuracy: 0.5174\n",
      "\n",
      "Epoch 00016: val_accuracy did not improve from 0.51743\n",
      "Epoch 17/500\n",
      "53/53 [==============================] - 4s 77ms/step - loss: 0.6932 - accuracy: 0.4976 - val_loss: 0.6937 - val_accuracy: 0.4812\n",
      "\n",
      "Epoch 00017: val_accuracy did not improve from 0.51743\n",
      "Epoch 18/500\n",
      "53/53 [==============================] - 4s 79ms/step - loss: 0.6933 - accuracy: 0.5048 - val_loss: 0.6934 - val_accuracy: 0.5188\n",
      "\n",
      "Epoch 00018: val_accuracy improved from 0.51743 to 0.51877, saving model to best_lstm_model_trial.h5\n",
      "Epoch 19/500\n",
      "53/53 [==============================] - 4s 78ms/step - loss: 0.6934 - accuracy: 0.5009 - val_loss: 0.6948 - val_accuracy: 0.4812\n",
      "\n",
      "Epoch 00019: val_accuracy did not improve from 0.51877\n",
      "Epoch 20/500\n",
      "53/53 [==============================] - 4s 78ms/step - loss: 0.6935 - accuracy: 0.4945 - val_loss: 0.6931 - val_accuracy: 0.5174\n",
      "\n",
      "Epoch 00020: val_accuracy did not improve from 0.51877\n",
      "Epoch 21/500\n",
      "53/53 [==============================] - 4s 79ms/step - loss: 0.6936 - accuracy: 0.4825 - val_loss: 0.6931 - val_accuracy: 0.5174\n",
      "\n",
      "Epoch 00021: val_accuracy did not improve from 0.51877\n",
      "Epoch 22/500\n",
      "53/53 [==============================] - 4s 79ms/step - loss: 0.6935 - accuracy: 0.4737 - val_loss: 0.6937 - val_accuracy: 0.5188\n",
      "\n",
      "Epoch 00022: val_accuracy did not improve from 0.51877\n",
      "Epoch 23/500\n",
      "53/53 [==============================] - 4s 79ms/step - loss: 0.6931 - accuracy: 0.5122 - val_loss: 0.6963 - val_accuracy: 0.4812\n",
      "\n",
      "Epoch 00023: val_accuracy did not improve from 0.51877\n",
      "Epoch 24/500\n",
      "53/53 [==============================] - 4s 78ms/step - loss: 0.6933 - accuracy: 0.4977 - val_loss: 0.6945 - val_accuracy: 0.5188\n",
      "\n",
      "Epoch 00024: val_accuracy did not improve from 0.51877\n",
      "Epoch 25/500\n",
      "53/53 [==============================] - 4s 79ms/step - loss: 0.7046 - accuracy: 0.5100 - val_loss: 0.6943 - val_accuracy: 0.5174\n",
      "\n",
      "Epoch 00025: val_accuracy did not improve from 0.51877\n",
      "Epoch 26/500\n",
      "53/53 [==============================] - 4s 78ms/step - loss: 0.6951 - accuracy: 0.5027 - val_loss: 0.6931 - val_accuracy: 0.5188\n",
      "\n",
      "Epoch 00026: val_accuracy did not improve from 0.51877\n",
      "Epoch 27/500\n",
      "53/53 [==============================] - 4s 78ms/step - loss: 0.6938 - accuracy: 0.5044 - val_loss: 0.6956 - val_accuracy: 0.4826\n",
      "\n",
      "Epoch 00027: val_accuracy did not improve from 0.51877\n",
      "Epoch 28/500\n",
      "53/53 [==============================] - 4s 80ms/step - loss: 0.6939 - accuracy: 0.5072 - val_loss: 0.6931 - val_accuracy: 0.5174\n",
      "\n",
      "Epoch 00028: val_accuracy did not improve from 0.51877\n",
      "Epoch 29/500\n",
      "53/53 [==============================] - 4s 78ms/step - loss: 0.6941 - accuracy: 0.4998 - val_loss: 0.6937 - val_accuracy: 0.5174\n",
      "\n",
      "Epoch 00029: val_accuracy did not improve from 0.51877\n",
      "Epoch 30/500\n",
      "53/53 [==============================] - 4s 79ms/step - loss: 0.6942 - accuracy: 0.4941 - val_loss: 0.6928 - val_accuracy: 0.5174\n",
      "\n",
      "Epoch 00030: val_accuracy did not improve from 0.51877\n",
      "Epoch 31/500\n",
      "53/53 [==============================] - 4s 78ms/step - loss: 0.6941 - accuracy: 0.4888 - val_loss: 0.6937 - val_accuracy: 0.4812\n",
      "\n",
      "Epoch 00031: val_accuracy did not improve from 0.51877\n",
      "Epoch 32/500\n",
      "53/53 [==============================] - 4s 79ms/step - loss: 0.6939 - accuracy: 0.4901 - val_loss: 0.6926 - val_accuracy: 0.5174\n",
      "\n",
      "Epoch 00032: val_accuracy did not improve from 0.51877\n",
      "Epoch 33/500\n",
      "53/53 [==============================] - 4s 85ms/step - loss: 0.6938 - accuracy: 0.5064 - val_loss: 0.6937 - val_accuracy: 0.4812\n",
      "\n",
      "Epoch 00033: val_accuracy did not improve from 0.51877\n",
      "Epoch 34/500\n",
      "53/53 [==============================] - 4s 80ms/step - loss: 0.6939 - accuracy: 0.4920 - val_loss: 0.6930 - val_accuracy: 0.5174\n",
      "\n",
      "Epoch 00034: val_accuracy did not improve from 0.51877\n",
      "Epoch 35/500\n",
      "53/53 [==============================] - 4s 79ms/step - loss: 0.6939 - accuracy: 0.4951 - val_loss: 0.6940 - val_accuracy: 0.4812\n",
      "\n",
      "Epoch 00035: val_accuracy did not improve from 0.51877\n",
      "Epoch 36/500\n",
      "53/53 [==============================] - 5s 86ms/step - loss: 0.6938 - accuracy: 0.4938 - val_loss: 0.6930 - val_accuracy: 0.5174\n",
      "\n",
      "Epoch 00036: val_accuracy did not improve from 0.51877\n",
      "Epoch 37/500\n",
      "53/53 [==============================] - 4s 81ms/step - loss: 0.6934 - accuracy: 0.5050 - val_loss: 0.6927 - val_accuracy: 0.5174\n",
      "\n",
      "Epoch 00037: val_accuracy did not improve from 0.51877\n",
      "Epoch 38/500\n",
      "53/53 [==============================] - 4s 79ms/step - loss: 0.6941 - accuracy: 0.4890 - val_loss: 0.6931 - val_accuracy: 0.5174\n",
      "\n",
      "Epoch 00038: val_accuracy did not improve from 0.51877\n",
      "Epoch 39/500\n",
      "53/53 [==============================] - 4s 80ms/step - loss: 0.6933 - accuracy: 0.5079 - val_loss: 0.6956 - val_accuracy: 0.4826\n",
      "\n",
      "Epoch 00039: val_accuracy did not improve from 0.51877\n",
      "Epoch 40/500\n",
      "53/53 [==============================] - 4s 78ms/step - loss: 0.6938 - accuracy: 0.4975 - val_loss: 0.6930 - val_accuracy: 0.5174\n",
      "\n",
      "Epoch 00040: val_accuracy did not improve from 0.51877\n",
      "Epoch 41/500\n",
      "53/53 [==============================] - 4s 78ms/step - loss: 0.6933 - accuracy: 0.5084 - val_loss: 0.6930 - val_accuracy: 0.5174\n"
     ]
    },
    {
     "name": "stdout",
     "output_type": "stream",
     "text": [
      "\n",
      "Epoch 00041: val_accuracy did not improve from 0.51877\n",
      "Epoch 42/500\n",
      "53/53 [==============================] - 4s 79ms/step - loss: 0.6936 - accuracy: 0.5035 - val_loss: 0.6950 - val_accuracy: 0.4812\n",
      "\n",
      "Epoch 00042: val_accuracy did not improve from 0.51877\n",
      "Epoch 43/500\n",
      "53/53 [==============================] - 4s 80ms/step - loss: 0.6935 - accuracy: 0.4956 - val_loss: 0.6940 - val_accuracy: 0.4826\n",
      "\n",
      "Epoch 00043: val_accuracy did not improve from 0.51877\n",
      "Epoch 44/500\n",
      "53/53 [==============================] - 4s 82ms/step - loss: 0.6935 - accuracy: 0.4985 - val_loss: 0.6945 - val_accuracy: 0.4812\n",
      "\n",
      "Epoch 00044: val_accuracy did not improve from 0.51877\n",
      "Epoch 45/500\n",
      "53/53 [==============================] - 4s 80ms/step - loss: 0.6940 - accuracy: 0.4853 - val_loss: 0.6948 - val_accuracy: 0.4812\n",
      "\n",
      "Epoch 00045: val_accuracy did not improve from 0.51877\n",
      "Epoch 46/500\n",
      "53/53 [==============================] - 4s 79ms/step - loss: 0.6938 - accuracy: 0.5052 - val_loss: 0.6931 - val_accuracy: 0.5174\n",
      "\n",
      "Epoch 00046: val_accuracy did not improve from 0.51877\n",
      "Epoch 47/500\n",
      "53/53 [==============================] - 4s 78ms/step - loss: 0.6935 - accuracy: 0.4981 - val_loss: 0.6951 - val_accuracy: 0.4826\n",
      "\n",
      "Epoch 00047: val_accuracy did not improve from 0.51877\n",
      "Epoch 48/500\n",
      "53/53 [==============================] - 4s 77ms/step - loss: 0.6935 - accuracy: 0.5070 - val_loss: 0.6926 - val_accuracy: 0.5174\n",
      "\n",
      "Epoch 00048: val_accuracy did not improve from 0.51877\n",
      "Epoch 49/500\n",
      "53/53 [==============================] - 4s 80ms/step - loss: 0.6934 - accuracy: 0.4991 - val_loss: 0.6957 - val_accuracy: 0.4826\n",
      "\n",
      "Epoch 00049: val_accuracy did not improve from 0.51877\n",
      "Epoch 50/500\n",
      "53/53 [==============================] - 4s 78ms/step - loss: 0.6938 - accuracy: 0.4901 - val_loss: 0.6926 - val_accuracy: 0.5174\n",
      "\n",
      "Epoch 00050: val_accuracy did not improve from 0.51877\n",
      "Epoch 51/500\n",
      "53/53 [==============================] - 4s 79ms/step - loss: 0.6934 - accuracy: 0.4992 - val_loss: 0.6926 - val_accuracy: 0.5174\n",
      "\n",
      "Epoch 00051: val_accuracy did not improve from 0.51877\n",
      "Epoch 52/500\n",
      "53/53 [==============================] - 4s 78ms/step - loss: 0.6939 - accuracy: 0.4781 - val_loss: 0.6929 - val_accuracy: 0.5174\n",
      "\n",
      "Epoch 00052: val_accuracy did not improve from 0.51877\n",
      "Epoch 53/500\n",
      "53/53 [==============================] - 4s 78ms/step - loss: 0.6935 - accuracy: 0.4908 - val_loss: 0.6937 - val_accuracy: 0.4826\n",
      "\n",
      "Epoch 00053: val_accuracy did not improve from 0.51877\n",
      "Epoch 54/500\n",
      "53/53 [==============================] - 4s 79ms/step - loss: 0.6935 - accuracy: 0.4973 - val_loss: 0.6926 - val_accuracy: 0.5174\n",
      "\n",
      "Epoch 00054: val_accuracy did not improve from 0.51877\n",
      "Epoch 55/500\n",
      "53/53 [==============================] - 4s 78ms/step - loss: 0.6935 - accuracy: 0.5002 - val_loss: 0.6930 - val_accuracy: 0.5174\n",
      "\n",
      "Epoch 00055: val_accuracy did not improve from 0.51877\n",
      "Epoch 56/500\n",
      "53/53 [==============================] - 4s 79ms/step - loss: 0.6935 - accuracy: 0.5012 - val_loss: 0.6936 - val_accuracy: 0.4812\n",
      "\n",
      "Epoch 00056: val_accuracy did not improve from 0.51877\n",
      "Epoch 57/500\n",
      "53/53 [==============================] - 4s 79ms/step - loss: 0.6931 - accuracy: 0.5100 - val_loss: 0.6931 - val_accuracy: 0.5174\n",
      "\n",
      "Epoch 00057: val_accuracy did not improve from 0.51877\n",
      "Epoch 58/500\n",
      "53/53 [==============================] - 4s 80ms/step - loss: 0.6934 - accuracy: 0.4966 - val_loss: 0.6929 - val_accuracy: 0.5174\n",
      "\n",
      "Epoch 00058: val_accuracy did not improve from 0.51877\n",
      "Epoch 59/500\n",
      "53/53 [==============================] - 4s 79ms/step - loss: 0.6935 - accuracy: 0.4991 - val_loss: 0.6930 - val_accuracy: 0.5174\n",
      "\n",
      "Epoch 00059: val_accuracy did not improve from 0.51877\n",
      "Epoch 60/500\n",
      "53/53 [==============================] - 4s 78ms/step - loss: 0.6930 - accuracy: 0.5076 - val_loss: 0.6949 - val_accuracy: 0.4826\n",
      "\n",
      "Epoch 00060: val_accuracy did not improve from 0.51877\n",
      "Epoch 61/500\n",
      "53/53 [==============================] - 4s 78ms/step - loss: 0.6937 - accuracy: 0.4912 - val_loss: 0.6930 - val_accuracy: 0.5174\n",
      "\n",
      "Epoch 00061: val_accuracy did not improve from 0.51877\n",
      "Epoch 62/500\n",
      "53/53 [==============================] - 4s 78ms/step - loss: 0.6934 - accuracy: 0.5073 - val_loss: 0.6926 - val_accuracy: 0.5174\n",
      "\n",
      "Epoch 00062: val_accuracy did not improve from 0.51877\n",
      "Epoch 63/500\n",
      "53/53 [==============================] - 4s 78ms/step - loss: 0.6937 - accuracy: 0.4947 - val_loss: 0.6959 - val_accuracy: 0.4826\n",
      "\n",
      "Epoch 00063: val_accuracy did not improve from 0.51877\n",
      "Epoch 64/500\n",
      "53/53 [==============================] - 4s 84ms/step - loss: 0.6934 - accuracy: 0.4985 - val_loss: 0.6938 - val_accuracy: 0.4812\n",
      "\n",
      "Epoch 00064: val_accuracy did not improve from 0.51877\n",
      "Epoch 65/500\n",
      "53/53 [==============================] - 4s 79ms/step - loss: 0.6932 - accuracy: 0.4974 - val_loss: 0.6933 - val_accuracy: 0.4812\n",
      "\n",
      "Epoch 00065: val_accuracy did not improve from 0.51877\n",
      "Epoch 66/500\n",
      "53/53 [==============================] - 4s 79ms/step - loss: 0.6934 - accuracy: 0.4961 - val_loss: 0.6942 - val_accuracy: 0.4812\n",
      "\n",
      "Epoch 00066: val_accuracy did not improve from 0.51877\n",
      "Epoch 67/500\n",
      "53/53 [==============================] - 4s 78ms/step - loss: 0.6934 - accuracy: 0.5035 - val_loss: 0.6930 - val_accuracy: 0.5174\n",
      "\n",
      "Epoch 00067: val_accuracy did not improve from 0.51877\n",
      "Epoch 68/500\n",
      "53/53 [==============================] - 4s 79ms/step - loss: 0.6932 - accuracy: 0.5032 - val_loss: 0.6954 - val_accuracy: 0.4812\n",
      "\n",
      "Epoch 00068: val_accuracy did not improve from 0.51877\n",
      "Epoch 69/500\n",
      "53/53 [==============================] - 4s 78ms/step - loss: 0.6936 - accuracy: 0.5040 - val_loss: 0.6930 - val_accuracy: 0.5174\n",
      "\n",
      "Epoch 00069: val_accuracy did not improve from 0.51877\n",
      "Epoch 70/500\n",
      "53/53 [==============================] - 4s 78ms/step - loss: 0.6932 - accuracy: 0.5084 - val_loss: 0.6948 - val_accuracy: 0.4812\n",
      "\n",
      "Epoch 00070: val_accuracy did not improve from 0.51877\n",
      "Epoch 71/500\n",
      "53/53 [==============================] - 4s 79ms/step - loss: 0.6933 - accuracy: 0.5071 - val_loss: 0.6931 - val_accuracy: 0.5174\n",
      "\n",
      "Epoch 00071: val_accuracy did not improve from 0.51877\n",
      "Epoch 72/500\n",
      "53/53 [==============================] - 4s 79ms/step - loss: 0.6935 - accuracy: 0.4983 - val_loss: 0.6938 - val_accuracy: 0.4812\n",
      "\n",
      "Epoch 00072: val_accuracy did not improve from 0.51877\n",
      "Epoch 73/500\n",
      "53/53 [==============================] - 4s 80ms/step - loss: 0.6936 - accuracy: 0.4949 - val_loss: 0.6927 - val_accuracy: 0.5174\n",
      "\n",
      "Epoch 00073: val_accuracy did not improve from 0.51877\n",
      "Epoch 74/500\n",
      "53/53 [==============================] - 4s 77ms/step - loss: 0.6936 - accuracy: 0.4883 - val_loss: 0.6928 - val_accuracy: 0.5174\n",
      "\n",
      "Epoch 00074: val_accuracy did not improve from 0.51877\n",
      "Epoch 75/500\n",
      "53/53 [==============================] - 4s 78ms/step - loss: 0.6936 - accuracy: 0.4937 - val_loss: 0.6934 - val_accuracy: 0.5174\n",
      "\n",
      "Epoch 00075: val_accuracy did not improve from 0.51877\n",
      "Epoch 76/500\n",
      "53/53 [==============================] - 4s 79ms/step - loss: 0.6936 - accuracy: 0.5063 - val_loss: 0.6939 - val_accuracy: 0.4812\n",
      "\n",
      "Epoch 00076: val_accuracy did not improve from 0.51877\n",
      "Epoch 77/500\n",
      "53/53 [==============================] - 4s 78ms/step - loss: 0.6933 - accuracy: 0.5013 - val_loss: 0.6948 - val_accuracy: 0.4812\n",
      "\n",
      "Epoch 00077: val_accuracy did not improve from 0.51877\n",
      "Epoch 78/500\n",
      "53/53 [==============================] - 4s 79ms/step - loss: 0.6938 - accuracy: 0.4886 - val_loss: 0.6947 - val_accuracy: 0.4812\n",
      "\n",
      "Epoch 00078: val_accuracy did not improve from 0.51877\n",
      "Epoch 79/500\n",
      "53/53 [==============================] - 4s 78ms/step - loss: 0.6934 - accuracy: 0.4986 - val_loss: 0.6939 - val_accuracy: 0.4812\n",
      "\n",
      "Epoch 00079: val_accuracy did not improve from 0.51877\n",
      "Epoch 80/500\n",
      "53/53 [==============================] - 4s 79ms/step - loss: 0.6934 - accuracy: 0.4973 - val_loss: 0.6929 - val_accuracy: 0.5174\n",
      "\n",
      "Epoch 00080: val_accuracy did not improve from 0.51877\n",
      "Epoch 81/500\n",
      "53/53 [==============================] - 4s 79ms/step - loss: 0.6934 - accuracy: 0.4972 - val_loss: 0.6929 - val_accuracy: 0.5174\n",
      "\n",
      "Epoch 00081: val_accuracy did not improve from 0.51877\n",
      "Epoch 82/500\n",
      "53/53 [==============================] - 4s 78ms/step - loss: 0.6936 - accuracy: 0.5008 - val_loss: 0.6940 - val_accuracy: 0.4812\n",
      "\n",
      "Epoch 00082: val_accuracy did not improve from 0.51877\n",
      "Epoch 83/500\n"
     ]
    },
    {
     "name": "stdout",
     "output_type": "stream",
     "text": [
      "53/53 [==============================] - 4s 82ms/step - loss: 0.6934 - accuracy: 0.4941 - val_loss: 0.6928 - val_accuracy: 0.5174\n",
      "\n",
      "Epoch 00083: val_accuracy did not improve from 0.51877\n",
      "Epoch 84/500\n",
      "53/53 [==============================] - 4s 81ms/step - loss: 0.6938 - accuracy: 0.4860 - val_loss: 0.6933 - val_accuracy: 0.5188\n",
      "\n",
      "Epoch 00084: val_accuracy did not improve from 0.51877\n",
      "Epoch 85/500\n",
      "53/53 [==============================] - 4s 80ms/step - loss: 0.6927 - accuracy: 0.5229 - val_loss: 0.6931 - val_accuracy: 0.5174\n",
      "\n",
      "Epoch 00085: val_accuracy did not improve from 0.51877\n",
      "Epoch 86/500\n",
      "53/53 [==============================] - 4s 79ms/step - loss: 0.6938 - accuracy: 0.5051 - val_loss: 0.6927 - val_accuracy: 0.5174\n",
      "\n",
      "Epoch 00086: val_accuracy did not improve from 0.51877\n",
      "Epoch 87/500\n",
      "53/53 [==============================] - 4s 79ms/step - loss: 0.6932 - accuracy: 0.5066 - val_loss: 0.6953 - val_accuracy: 0.4812\n",
      "\n",
      "Epoch 00087: val_accuracy did not improve from 0.51877\n",
      "Epoch 88/500\n",
      "53/53 [==============================] - 4s 78ms/step - loss: 0.6935 - accuracy: 0.4930 - val_loss: 0.6932 - val_accuracy: 0.5174\n",
      "\n",
      "Epoch 00088: val_accuracy did not improve from 0.51877\n"
     ]
    }
   ],
   "source": [
    "history = model.fit(x_train, y_train,\n",
    "          batch_size=128, epochs=500,\n",
    "          validation_split=0.1, callbacks=[es,mc], verbose=1)"
   ]
  },
  {
   "cell_type": "code",
   "execution_count": 15,
   "id": "5e25dd9d",
   "metadata": {},
   "outputs": [
    {
     "data": {
      "image/png": "[encoded data removed]",
      "text/plain": [
       "<Figure size 432x288 with 1 Axes>"
      ]
     },
     "metadata": {
      "needs_background": "light"
     },
     "output_type": "display_data"
    }
   ],
   "source": [
    "plt.plot(history.history['loss'])\n",
    "plt.plot(history.history['val_loss'])\n",
    "plt.title('model train vs validation loss')\n",
    "plt.ylabel('loss')\n",
    "plt.xlabel('epoch')\n",
    "plt.legend(['train', 'val'], loc='upper right')\n",
    "plt.show()"
   ]
  },
  {
   "cell_type": "code",
   "execution_count": 16,
   "id": "78697f80",
   "metadata": {},
   "outputs": [
    {
     "data": {
      "image/png": "[encoded data removed]",
      "text/plain": [
       "<Figure size 432x288 with 1 Axes>"
      ]
     },
     "metadata": {
      "needs_background": "light"
     },
     "output_type": "display_data"
    }
   ],
   "source": [
    "plt.plot(history.history['accuracy'])\n",
    "plt.plot(history.history['val_accuracy'])\n",
    "plt.title('model train vs validation accuracy')\n",
    "plt.ylabel('accuracy')\n",
    "plt.xlabel('epoch')\n",
    "plt.legend(['train', 'val'], loc='upper right')\n",
    "plt.show()"
   ]
  },
  {
   "cell_type": "code",
   "execution_count": 17,
   "id": "57a331c1",
   "metadata": {},
   "outputs": [],
   "source": [
    "# Load best saved model\n",
    "from keras.models import load_model\n",
    "saved_model = load_model('best_lstm_model_'+LEVEL+'.h5')"
   ]
  },
  {
   "cell_type": "code",
   "execution_count": 18,
   "id": "c2fc7d6f",
   "metadata": {},
   "outputs": [
    {
     "name": "stdout",
     "output_type": "stream",
     "text": [
      "Evaluate on test data\n",
      "26/26 [==============================] - 1s 11ms/step - loss: 0.6932 - accuracy: 0.4885\n",
      "test loss, test acc: [0.6931999325752258, 0.4885404109954834]\n"
     ]
    }
   ],
   "source": [
    "# Evaluate the model on the test data\n",
    "print(\"Evaluate on test data\")\n",
    "results = saved_model.evaluate(x_test, y_test)\n",
    "print(\"test loss, test acc:\", results)\n"
   ]
  },
  {
   "cell_type": "code",
   "execution_count": 19,
   "id": "8461a046",
   "metadata": {},
   "outputs": [
    {
     "name": "stdout",
     "output_type": "stream",
     "text": [
      "Generate predictions for test samples\n"
     ]
    }
   ],
   "source": [
    "# Generate predictions (probabilities -- the output of the last layer)\n",
    "print(\"Generate predictions for test samples\")\n",
    "predictions = saved_model.predict(x_test)\n"
   ]
  },
  {
   "cell_type": "code",
   "execution_count": 20,
   "id": "9ab1092c",
   "metadata": {},
   "outputs": [
    {
     "name": "stdout",
     "output_type": "stream",
     "text": [
      "              precision    recall  f1-score   support\n",
      "\n",
      "non-dyslexic       0.49      1.00      0.66       405\n",
      "    dyslexic       0.50      0.00      0.00       424\n",
      "\n",
      "    accuracy                           0.49       829\n",
      "   macro avg       0.49      0.50      0.33       829\n",
      "weighted avg       0.49      0.49      0.32       829\n",
      "\n"
     ]
    }
   ],
   "source": [
    "from sklearn.metrics import classification_report\n",
    "\n",
    "target_names = ['non-dyslexic', 'dyslexic']\n",
    "print(classification_report(np.argmax(y_test, axis=1), np.argmax(predictions, axis=1), target_names=target_names))\n"
   ]
  },
  {
   "cell_type": "code",
   "execution_count": 21,
   "id": "905132f8",
   "metadata": {},
   "outputs": [],
   "source": [
    "results_lstm = classification_report(np.argmax(y_test, axis=1), np.argmax(predictions, axis=1), target_names=target_names, output_dict=True)\n",
    "result_file = open(\"lstm_\"+LEVEL+\"_level_results-longerTrain-Nodropout-longerPat.txt\", \"a\")\n",
    "print(results_lstm, file=result_file)\n",
    "result_file.close()\n"
   ]
  },
  {
   "cell_type": "code",
   "execution_count": null,
   "id": "090dd44e",
   "metadata": {},
   "outputs": [],
   "source": []
  }
 ],
 "metadata": {
  "kernelspec": {
   "display_name": "Python 3",
   "language": "python",
   "name": "python3"
  },
  "language_info": {
   "codemirror_mode": {
    "name": "ipython",
    "version": 3
   },
   "file_extension": ".py",
   "mimetype": "text/x-python",
   "name": "python",
   "nbconvert_exporter": "python",
   "pygments_lexer": "ipython3",
   "version": "3.9.1"
  }
 },
 "nbformat": 4,
 "nbformat_minor": 5
}
