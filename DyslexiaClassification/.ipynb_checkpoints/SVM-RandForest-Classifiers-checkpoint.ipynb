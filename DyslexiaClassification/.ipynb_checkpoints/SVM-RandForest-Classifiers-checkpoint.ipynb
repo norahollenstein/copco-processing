{
 "cells": [
  {
   "cell_type": "code",
   "execution_count": 1,
   "id": "90cfb6a4",
   "metadata": {},
   "outputs": [
    {
     "name": "stderr",
     "output_type": "stream",
     "text": [
      "/Users/tzp466/miniconda3/lib/python3.9/site-packages/scipy/__init__.py:138: UserWarning: A NumPy version >=1.16.5 and <1.23.0 is required for this version of SciPy (detected version 1.23.3)\n",
      "  warnings.warn(f\"A NumPy version >={np_minversion} and <{np_maxversion} is required for this version of \"\n"
     ]
    }
   ],
   "source": [
    "import pandas as pd\n",
    "import numpy as np\n",
    "import mat73\n",
    "import matplotlib.pyplot as plt\n",
    "import seaborn as sns\n",
    "import random\n",
    "import math\n",
    "import re\n",
    "from sklearn.utils import shuffle\n",
    "from sklearn.model_selection import train_test_split\n",
    "from sklearn.preprocessing import MinMaxScaler\n",
    "from sklearn import svm\n",
    "from sklearn.model_selection import GridSearchCV\n",
    "from sklearn.metrics import classification_report\n",
    "from sklearn.ensemble import RandomForestClassifier\n",
    "from sklearn.metrics import confusion_matrix, ConfusionMatrixDisplay\n",
    "from collections import Counter\n"
   ]
  },
  {
   "cell_type": "code",
   "execution_count": 2,
   "id": "497ed5e0",
   "metadata": {},
   "outputs": [],
   "source": [
    "# classification level\n",
    "LEVEL = \"trial\" # \"sentence\" or \"trial\"\n",
    "\n",
    "# include stadard deviation features\n",
    "st_dev_features = True # True or False\n",
    "max_features = True # True or False"
   ]
  },
  {
   "cell_type": "code",
   "execution_count": 3,
   "id": "41fd6634",
   "metadata": {},
   "outputs": [
    {
     "name": "stdout",
     "output_type": "stream",
     "text": [
      "SHUFFLING SUBJECTS before loading data\n",
      "\n",
      "6155  samples.\n",
      "446434  words.\n"
     ]
    }
   ],
   "source": [
    "#load all non-dyslexic data\n",
    "nond_subjects = [\"02\", \"03\", \"04\", \"05\", \"06\", \"07\", \"08\", \"09\", \"10\", \"11\", \"12\", \"15\", \"16\", \"18\", \"19\", \"20\", \"21\", \"22\"] \n",
    "#01, 13, 14 and 17 excluded because of POOR calibration or attention disorder\n",
    "\n",
    "#shuffle subjects so that not always the same data is taken afterwards\n",
    "print(\"SHUFFLING SUBJECTS before loading data\")\n",
    "random.shuffle(nond_subjects)\n",
    "\n",
    "all_nond_data = pd.DataFrame()\n",
    "for subject in nond_subjects:\n",
    "    subj_file = pd.read_csv('../ExtractedFeatures/P'+subject+'.csv')\n",
    "    subj_file = subj_file.fillna(0)\n",
    "    subj_file.insert(17, 'participantId', subject)\n",
    "    subj_file.insert(18, 'label', 0) #non-dyslexic\n",
    "\n",
    "    all_nond_data = pd.concat([all_nond_data, subj_file])\n",
    "\n",
    "if LEVEL == \"sentence\":\n",
    "    all_nond_data[\"uniqueID\"] = all_nond_data[\"participantId\"] + \"-\" + all_nond_data[\"speechId\"].astype(str) + \"-\" + all_nond_data[\"sentenceId\"].astype(str)\n",
    "elif LEVEL == \"trial\":\n",
    "    all_nond_data[\"uniqueID\"] = all_nond_data[\"participantId\"] + \"-\" + all_nond_data[\"speechId\"].astype(str) + \"-\" + all_nond_data[\"trialId\"].astype(str)\n",
    "\n",
    "print()\n",
    "print(len(all_nond_data.uniqueID.unique()), \" samples.\")\n",
    "print(len(all_nond_data), \" words.\")\n",
    "        "
   ]
  },
  {
   "cell_type": "code",
   "execution_count": 4,
   "id": "d7d85f40",
   "metadata": {},
   "outputs": [
    {
     "ename": "FileNotFoundError",
     "evalue": "[Errno 2] No such file or directory: 'P23.csv'",
     "output_type": "error",
     "traceback": [
      "\u001b[0;31m---------------------------------------------------------------------------\u001b[0m",
      "\u001b[0;31mFileNotFoundError\u001b[0m                         Traceback (most recent call last)",
      "\u001b[0;32m<ipython-input-4-e3c7c2487976>\u001b[0m in \u001b[0;36m<module>\u001b[0;34m\u001b[0m\n\u001b[1;32m      5\u001b[0m \u001b[0mall_dyslexic_data\u001b[0m \u001b[0;34m=\u001b[0m \u001b[0mpd\u001b[0m\u001b[0;34m.\u001b[0m\u001b[0mDataFrame\u001b[0m\u001b[0;34m(\u001b[0m\u001b[0;34m)\u001b[0m\u001b[0;34m\u001b[0m\u001b[0;34m\u001b[0m\u001b[0m\n\u001b[1;32m      6\u001b[0m \u001b[0;32mfor\u001b[0m \u001b[0msubject\u001b[0m \u001b[0;32min\u001b[0m \u001b[0mdys_subjects\u001b[0m\u001b[0;34m:\u001b[0m\u001b[0;34m\u001b[0m\u001b[0;34m\u001b[0m\u001b[0m\n\u001b[0;32m----> 7\u001b[0;31m     \u001b[0msubj_file\u001b[0m \u001b[0;34m=\u001b[0m \u001b[0mpd\u001b[0m\u001b[0;34m.\u001b[0m\u001b[0mread_csv\u001b[0m\u001b[0;34m(\u001b[0m\u001b[0;34m'P'\u001b[0m\u001b[0;34m+\u001b[0m\u001b[0msubject\u001b[0m\u001b[0;34m+\u001b[0m\u001b[0;34m'.csv'\u001b[0m\u001b[0;34m)\u001b[0m\u001b[0;34m\u001b[0m\u001b[0;34m\u001b[0m\u001b[0m\n\u001b[0m\u001b[1;32m      8\u001b[0m     \u001b[0msubj_file\u001b[0m \u001b[0;34m=\u001b[0m \u001b[0msubj_file\u001b[0m\u001b[0;34m.\u001b[0m\u001b[0mfillna\u001b[0m\u001b[0;34m(\u001b[0m\u001b[0;36m0\u001b[0m\u001b[0;34m)\u001b[0m\u001b[0;34m\u001b[0m\u001b[0;34m\u001b[0m\u001b[0m\n\u001b[1;32m      9\u001b[0m     \u001b[0msubj_file\u001b[0m\u001b[0;34m.\u001b[0m\u001b[0minsert\u001b[0m\u001b[0;34m(\u001b[0m\u001b[0;36m17\u001b[0m\u001b[0;34m,\u001b[0m \u001b[0;34m'participantId'\u001b[0m\u001b[0;34m,\u001b[0m \u001b[0msubject\u001b[0m\u001b[0;34m)\u001b[0m\u001b[0;34m\u001b[0m\u001b[0;34m\u001b[0m\u001b[0m\n",
      "\u001b[0;32m~/miniconda3/lib/python3.9/site-packages/pandas/util/_decorators.py\u001b[0m in \u001b[0;36mwrapper\u001b[0;34m(*args, **kwargs)\u001b[0m\n\u001b[1;32m    209\u001b[0m                 \u001b[0;32melse\u001b[0m\u001b[0;34m:\u001b[0m\u001b[0;34m\u001b[0m\u001b[0;34m\u001b[0m\u001b[0m\n\u001b[1;32m    210\u001b[0m                     \u001b[0mkwargs\u001b[0m\u001b[0;34m[\u001b[0m\u001b[0mnew_arg_name\u001b[0m\u001b[0;34m]\u001b[0m \u001b[0;34m=\u001b[0m \u001b[0mnew_arg_value\u001b[0m\u001b[0;34m\u001b[0m\u001b[0;34m\u001b[0m\u001b[0m\n\u001b[0;32m--> 211\u001b[0;31m             \u001b[0;32mreturn\u001b[0m \u001b[0mfunc\u001b[0m\u001b[0;34m(\u001b[0m\u001b[0;34m*\u001b[0m\u001b[0margs\u001b[0m\u001b[0;34m,\u001b[0m \u001b[0;34m**\u001b[0m\u001b[0mkwargs\u001b[0m\u001b[0;34m)\u001b[0m\u001b[0;34m\u001b[0m\u001b[0;34m\u001b[0m\u001b[0m\n\u001b[0m\u001b[1;32m    212\u001b[0m \u001b[0;34m\u001b[0m\u001b[0m\n\u001b[1;32m    213\u001b[0m         \u001b[0;32mreturn\u001b[0m \u001b[0mcast\u001b[0m\u001b[0;34m(\u001b[0m\u001b[0mF\u001b[0m\u001b[0;34m,\u001b[0m \u001b[0mwrapper\u001b[0m\u001b[0;34m)\u001b[0m\u001b[0;34m\u001b[0m\u001b[0;34m\u001b[0m\u001b[0m\n",
      "\u001b[0;32m~/miniconda3/lib/python3.9/site-packages/pandas/util/_decorators.py\u001b[0m in \u001b[0;36mwrapper\u001b[0;34m(*args, **kwargs)\u001b[0m\n\u001b[1;32m    315\u001b[0m                     \u001b[0mstacklevel\u001b[0m\u001b[0;34m=\u001b[0m\u001b[0mfind_stack_level\u001b[0m\u001b[0;34m(\u001b[0m\u001b[0minspect\u001b[0m\u001b[0;34m.\u001b[0m\u001b[0mcurrentframe\u001b[0m\u001b[0;34m(\u001b[0m\u001b[0;34m)\u001b[0m\u001b[0;34m)\u001b[0m\u001b[0;34m,\u001b[0m\u001b[0;34m\u001b[0m\u001b[0;34m\u001b[0m\u001b[0m\n\u001b[1;32m    316\u001b[0m                 )\n\u001b[0;32m--> 317\u001b[0;31m             \u001b[0;32mreturn\u001b[0m \u001b[0mfunc\u001b[0m\u001b[0;34m(\u001b[0m\u001b[0;34m*\u001b[0m\u001b[0margs\u001b[0m\u001b[0;34m,\u001b[0m \u001b[0;34m**\u001b[0m\u001b[0mkwargs\u001b[0m\u001b[0;34m)\u001b[0m\u001b[0;34m\u001b[0m\u001b[0;34m\u001b[0m\u001b[0m\n\u001b[0m\u001b[1;32m    318\u001b[0m \u001b[0;34m\u001b[0m\u001b[0m\n\u001b[1;32m    319\u001b[0m         \u001b[0;32mreturn\u001b[0m \u001b[0mwrapper\u001b[0m\u001b[0;34m\u001b[0m\u001b[0;34m\u001b[0m\u001b[0m\n",
      "\u001b[0;32m~/miniconda3/lib/python3.9/site-packages/pandas/io/parsers/readers.py\u001b[0m in \u001b[0;36mread_csv\u001b[0;34m(filepath_or_buffer, sep, delimiter, header, names, index_col, usecols, squeeze, prefix, mangle_dupe_cols, dtype, engine, converters, true_values, false_values, skipinitialspace, skiprows, skipfooter, nrows, na_values, keep_default_na, na_filter, verbose, skip_blank_lines, parse_dates, infer_datetime_format, keep_date_col, date_parser, dayfirst, cache_dates, iterator, chunksize, compression, thousands, decimal, lineterminator, quotechar, quoting, doublequote, escapechar, comment, encoding, encoding_errors, dialect, error_bad_lines, warn_bad_lines, on_bad_lines, delim_whitespace, low_memory, memory_map, float_precision, storage_options)\u001b[0m\n\u001b[1;32m    948\u001b[0m     \u001b[0mkwds\u001b[0m\u001b[0;34m.\u001b[0m\u001b[0mupdate\u001b[0m\u001b[0;34m(\u001b[0m\u001b[0mkwds_defaults\u001b[0m\u001b[0;34m)\u001b[0m\u001b[0;34m\u001b[0m\u001b[0;34m\u001b[0m\u001b[0m\n\u001b[1;32m    949\u001b[0m \u001b[0;34m\u001b[0m\u001b[0m\n\u001b[0;32m--> 950\u001b[0;31m     \u001b[0;32mreturn\u001b[0m \u001b[0m_read\u001b[0m\u001b[0;34m(\u001b[0m\u001b[0mfilepath_or_buffer\u001b[0m\u001b[0;34m,\u001b[0m \u001b[0mkwds\u001b[0m\u001b[0;34m)\u001b[0m\u001b[0;34m\u001b[0m\u001b[0;34m\u001b[0m\u001b[0m\n\u001b[0m\u001b[1;32m    951\u001b[0m \u001b[0;34m\u001b[0m\u001b[0m\n\u001b[1;32m    952\u001b[0m \u001b[0;34m\u001b[0m\u001b[0m\n",
      "\u001b[0;32m~/miniconda3/lib/python3.9/site-packages/pandas/io/parsers/readers.py\u001b[0m in \u001b[0;36m_read\u001b[0;34m(filepath_or_buffer, kwds)\u001b[0m\n\u001b[1;32m    603\u001b[0m \u001b[0;34m\u001b[0m\u001b[0m\n\u001b[1;32m    604\u001b[0m     \u001b[0;31m# Create the parser.\u001b[0m\u001b[0;34m\u001b[0m\u001b[0;34m\u001b[0m\u001b[0;34m\u001b[0m\u001b[0m\n\u001b[0;32m--> 605\u001b[0;31m     \u001b[0mparser\u001b[0m \u001b[0;34m=\u001b[0m \u001b[0mTextFileReader\u001b[0m\u001b[0;34m(\u001b[0m\u001b[0mfilepath_or_buffer\u001b[0m\u001b[0;34m,\u001b[0m \u001b[0;34m**\u001b[0m\u001b[0mkwds\u001b[0m\u001b[0;34m)\u001b[0m\u001b[0;34m\u001b[0m\u001b[0;34m\u001b[0m\u001b[0m\n\u001b[0m\u001b[1;32m    606\u001b[0m \u001b[0;34m\u001b[0m\u001b[0m\n\u001b[1;32m    607\u001b[0m     \u001b[0;32mif\u001b[0m \u001b[0mchunksize\u001b[0m \u001b[0;32mor\u001b[0m \u001b[0miterator\u001b[0m\u001b[0;34m:\u001b[0m\u001b[0;34m\u001b[0m\u001b[0;34m\u001b[0m\u001b[0m\n",
      "\u001b[0;32m~/miniconda3/lib/python3.9/site-packages/pandas/io/parsers/readers.py\u001b[0m in \u001b[0;36m__init__\u001b[0;34m(self, f, engine, **kwds)\u001b[0m\n\u001b[1;32m   1440\u001b[0m \u001b[0;34m\u001b[0m\u001b[0m\n\u001b[1;32m   1441\u001b[0m         \u001b[0mself\u001b[0m\u001b[0;34m.\u001b[0m\u001b[0mhandles\u001b[0m\u001b[0;34m:\u001b[0m \u001b[0mIOHandles\u001b[0m \u001b[0;34m|\u001b[0m \u001b[0;32mNone\u001b[0m \u001b[0;34m=\u001b[0m \u001b[0;32mNone\u001b[0m\u001b[0;34m\u001b[0m\u001b[0;34m\u001b[0m\u001b[0m\n\u001b[0;32m-> 1442\u001b[0;31m         \u001b[0mself\u001b[0m\u001b[0;34m.\u001b[0m\u001b[0m_engine\u001b[0m \u001b[0;34m=\u001b[0m \u001b[0mself\u001b[0m\u001b[0;34m.\u001b[0m\u001b[0m_make_engine\u001b[0m\u001b[0;34m(\u001b[0m\u001b[0mf\u001b[0m\u001b[0;34m,\u001b[0m \u001b[0mself\u001b[0m\u001b[0;34m.\u001b[0m\u001b[0mengine\u001b[0m\u001b[0;34m)\u001b[0m\u001b[0;34m\u001b[0m\u001b[0;34m\u001b[0m\u001b[0m\n\u001b[0m\u001b[1;32m   1443\u001b[0m \u001b[0;34m\u001b[0m\u001b[0m\n\u001b[1;32m   1444\u001b[0m     \u001b[0;32mdef\u001b[0m \u001b[0mclose\u001b[0m\u001b[0;34m(\u001b[0m\u001b[0mself\u001b[0m\u001b[0;34m)\u001b[0m \u001b[0;34m->\u001b[0m \u001b[0;32mNone\u001b[0m\u001b[0;34m:\u001b[0m\u001b[0;34m\u001b[0m\u001b[0;34m\u001b[0m\u001b[0m\n",
      "\u001b[0;32m~/miniconda3/lib/python3.9/site-packages/pandas/io/parsers/readers.py\u001b[0m in \u001b[0;36m_make_engine\u001b[0;34m(self, f, engine)\u001b[0m\n\u001b[1;32m   1727\u001b[0m                 \u001b[0mis_text\u001b[0m \u001b[0;34m=\u001b[0m \u001b[0;32mFalse\u001b[0m\u001b[0;34m\u001b[0m\u001b[0;34m\u001b[0m\u001b[0m\n\u001b[1;32m   1728\u001b[0m                 \u001b[0mmode\u001b[0m \u001b[0;34m=\u001b[0m \u001b[0;34m\"rb\"\u001b[0m\u001b[0;34m\u001b[0m\u001b[0;34m\u001b[0m\u001b[0m\n\u001b[0;32m-> 1729\u001b[0;31m             self.handles = get_handle(\n\u001b[0m\u001b[1;32m   1730\u001b[0m                 \u001b[0mf\u001b[0m\u001b[0;34m,\u001b[0m\u001b[0;34m\u001b[0m\u001b[0;34m\u001b[0m\u001b[0m\n\u001b[1;32m   1731\u001b[0m                 \u001b[0mmode\u001b[0m\u001b[0;34m,\u001b[0m\u001b[0;34m\u001b[0m\u001b[0;34m\u001b[0m\u001b[0m\n",
      "\u001b[0;32m~/miniconda3/lib/python3.9/site-packages/pandas/io/common.py\u001b[0m in \u001b[0;36mget_handle\u001b[0;34m(path_or_buf, mode, encoding, compression, memory_map, is_text, errors, storage_options)\u001b[0m\n\u001b[1;32m    855\u001b[0m         \u001b[0;32mif\u001b[0m \u001b[0mioargs\u001b[0m\u001b[0;34m.\u001b[0m\u001b[0mencoding\u001b[0m \u001b[0;32mand\u001b[0m \u001b[0;34m\"b\"\u001b[0m \u001b[0;32mnot\u001b[0m \u001b[0;32min\u001b[0m \u001b[0mioargs\u001b[0m\u001b[0;34m.\u001b[0m\u001b[0mmode\u001b[0m\u001b[0;34m:\u001b[0m\u001b[0;34m\u001b[0m\u001b[0;34m\u001b[0m\u001b[0m\n\u001b[1;32m    856\u001b[0m             \u001b[0;31m# Encoding\u001b[0m\u001b[0;34m\u001b[0m\u001b[0;34m\u001b[0m\u001b[0;34m\u001b[0m\u001b[0m\n\u001b[0;32m--> 857\u001b[0;31m             handle = open(\n\u001b[0m\u001b[1;32m    858\u001b[0m                 \u001b[0mhandle\u001b[0m\u001b[0;34m,\u001b[0m\u001b[0;34m\u001b[0m\u001b[0;34m\u001b[0m\u001b[0m\n\u001b[1;32m    859\u001b[0m                 \u001b[0mioargs\u001b[0m\u001b[0;34m.\u001b[0m\u001b[0mmode\u001b[0m\u001b[0;34m,\u001b[0m\u001b[0;34m\u001b[0m\u001b[0;34m\u001b[0m\u001b[0m\n",
      "\u001b[0;31mFileNotFoundError\u001b[0m: [Errno 2] No such file or directory: 'P23.csv'"
     ]
    }
   ],
   "source": [
    "#load all dyslexic data\n",
    "dys_subjects = [\"23\",\"24\", \"25\", \"26\", \"27\", \"28\", \"29\", \"30\", \"31\", \"33\", \"34\", \"35\", \"36\", \"37\", \"38\", \"39\", \"40\", \"41\"] \n",
    "# excluding P32 because no dyslexia screening result\n",
    "\n",
    "all_dyslexic_data = pd.DataFrame()\n",
    "for subject in dys_subjects:\n",
    "    subj_file = pd.read_csv('P'+subject+'.csv')\n",
    "    subj_file = subj_file.fillna(0)\n",
    "    subj_file.insert(17, 'participantId', subject)\n",
    "    subj_file.insert(18, 'label', 1) #dyslexic\n",
    "        \n",
    "    all_dyslexic_data = pd.concat([all_dyslexic_data, subj_file])\n",
    "\n",
    "if LEVEL == \"sentence\":\n",
    "    all_dyslexic_data[\"uniqueID\"] = all_dyslexic_data[\"participantId\"] + \"-\" + all_dyslexic_data[\"speechId\"].astype(str) + \"-\" + all_dyslexic_data[\"sentenceId\"].astype(str)\n",
    "elif LEVEL == \"trial\":\n",
    "    all_dyslexic_data[\"uniqueID\"] = all_dyslexic_data[\"participantId\"] + \"-\" + all_dyslexic_data[\"speechId\"].astype(str) + \"-\" + all_dyslexic_data[\"trialId\"].astype(str)\n",
    "\n",
    "print()\n",
    "print(len(all_dyslexic_data.uniqueID.unique()), \" samples.\")\n",
    "print(len(all_dyslexic_data), \" words.\")"
   ]
  },
  {
   "cell_type": "code",
   "execution_count": 5,
   "id": "a1a0a03a",
   "metadata": {},
   "outputs": [
    {
     "name": "stdout",
     "output_type": "stream",
     "text": [
      "4144  dyslexic samples.\n",
      "293315 downsampled non-dyslexic words.\n",
      "8288  in total.\n"
     ]
    }
   ],
   "source": [
    "# get an equal number of samples per class and join dataframes\n",
    "max_no_samples = len(all_dyslexic_data.uniqueID.unique())\n",
    "print(max_no_samples, \" dyslexic samples.\")\n",
    "\n",
    "grouped_all_nond_data = all_nond_data.groupby('uniqueID')\n",
    "list_ds = [x[1] for x in list(grouped_all_nond_data)[:max_no_samples]]\n",
    "downsampled_nond = pd.concat(list_ds)\n",
    "\n",
    "print(len(downsampled_nond), \"downsampled non-dyslexic words.\")\n",
    "\n",
    "all_subjects_data = pd.concat([all_dyslexic_data,downsampled_nond])\n",
    "print(len(all_subjects_data.uniqueID.unique()), \" in total.\")"
   ]
  },
  {
   "cell_type": "code",
   "execution_count": 6,
   "id": "f18213fc",
   "metadata": {},
   "outputs": [
    {
     "name": "stderr",
     "output_type": "stream",
     "text": [
      "<ipython-input-6-4e0461f71414>:2: FutureWarning: The default value of numeric_only in DataFrameGroupBy.mean is deprecated. In a future version, numeric_only will default to False. Either specify numeric_only or select only columns which should be valid for the function.\n",
      "  aggregated_data = all_subjects_data.groupby('uniqueID').mean()\n"
     ]
    }
   ],
   "source": [
    "# get mean sentence/trial features\n",
    "aggregated_data = all_subjects_data.groupby('uniqueID').mean()\n",
    "aggregated_data = aggregated_data.drop(columns=['part', 'wordId', 'sentenceId', 'speechId', 'trialId', 'paragraphId'])\n",
    "aggregated_data = aggregated_data.add_prefix('mean_')\n",
    "aggregated_data = aggregated_data.rename(columns={'mean_label': 'label'})"
   ]
  },
  {
   "cell_type": "code",
   "execution_count": 7,
   "id": "5b6ee386",
   "metadata": {},
   "outputs": [
    {
     "name": "stderr",
     "output_type": "stream",
     "text": [
      "<ipython-input-7-f580535642c4>:2: FutureWarning: The default value of numeric_only in DataFrameGroupBy.std is deprecated. In a future version, numeric_only will default to False. Either specify numeric_only or select only columns which should be valid for the function.\n",
      "  std_feats = all_subjects_data.groupby('uniqueID').std()\n"
     ]
    }
   ],
   "source": [
    "# get standard deviation features\n",
    "std_feats = all_subjects_data.groupby('uniqueID').std()\n",
    "std_feats = std_feats.drop(columns=['part', 'wordId', 'sentenceId', 'speechId', 'trialId', 'paragraphId', 'label'])\n",
    "std_feats = std_feats.add_prefix('std_')\n",
    "aggregated_data = pd.concat([aggregated_data, std_feats], axis=1)"
   ]
  },
  {
   "cell_type": "code",
   "execution_count": 8,
   "id": "344eb8cc",
   "metadata": {},
   "outputs": [],
   "source": [
    "# get max value features\n",
    "max_feats = all_subjects_data.groupby('uniqueID').max()\n",
    "max_feats = max_feats.drop(columns=['part', 'wordId', 'sentenceId', 'speechId', 'trialId', 'paragraphId', 'label'])\n",
    "max_feats = max_feats.add_prefix('max_')\n",
    "aggregated_data = pd.concat([aggregated_data, max_feats], axis=1)"
   ]
  },
  {
   "cell_type": "code",
   "execution_count": 9,
   "id": "4d90d17e",
   "metadata": {},
   "outputs": [
    {
     "name": "stdout",
     "output_type": "stream",
     "text": [
      "8288\n",
      "8288\n"
     ]
    }
   ],
   "source": [
    "# remove NaNs\n",
    "print(len(aggregated_data))\n",
    "aggregated_data = aggregated_data.dropna()\n",
    "print(len(aggregated_data))"
   ]
  },
  {
   "cell_type": "code",
   "execution_count": 10,
   "id": "45771dc7",
   "metadata": {},
   "outputs": [],
   "source": [
    "# shuffle samples in dataset\n",
    "shuffled_samples = aggregated_data.sample(n=len(aggregated_data))"
   ]
  },
  {
   "cell_type": "code",
   "execution_count": 11,
   "id": "47ee908d",
   "metadata": {},
   "outputs": [
    {
     "name": "stdout",
     "output_type": "stream",
     "text": [
      "['mean_landing_position', 'mean_word_first_fix_dur', 'mean_word_first_pass_dur', 'mean_word_go_past_time', 'mean_word_mean_fix_dur', 'mean_word_total_fix_dur', 'mean_number_of_fixations', 'mean_word_mean_sacc_dur', 'mean_word_peak_sacc_velocity', 'std_landing_position', 'std_word_first_fix_dur', 'std_word_first_pass_dur', 'std_word_go_past_time', 'std_word_mean_fix_dur', 'std_word_total_fix_dur', 'std_number_of_fixations', 'std_word_mean_sacc_dur', 'std_word_peak_sacc_velocity', 'max_landing_position', 'max_word_first_fix_dur', 'max_word_first_pass_dur', 'max_word_go_past_time', 'max_word_mean_fix_dur', 'max_word_total_fix_dur', 'max_number_of_fixations', 'max_word_mean_sacc_dur', 'max_word_peak_sacc_velocity']\n",
      "27  features.\n"
     ]
    }
   ],
   "source": [
    "# define features to be used\n",
    "feature_names = ['mean_landing_position', 'mean_word_first_fix_dur', 'mean_word_first_pass_dur', 'mean_word_go_past_time', 'mean_word_mean_fix_dur', 'mean_word_total_fix_dur', 'mean_number_of_fixations', 'mean_word_mean_sacc_dur', 'mean_word_peak_sacc_velocity']\n",
    "if st_dev_features == True:\n",
    "    feature_names = feature_names + ['std_landing_position', 'std_word_first_fix_dur', 'std_word_first_pass_dur', 'std_word_go_past_time', 'std_word_mean_fix_dur', 'std_word_total_fix_dur', 'std_number_of_fixations', 'std_word_mean_sacc_dur', 'std_word_peak_sacc_velocity']\n",
    "else:\n",
    "    feature_names = feature_names\n",
    "if max_features == True:\n",
    "    feature_names = feature_names + ['max_landing_position', 'max_word_first_fix_dur', 'max_word_first_pass_dur', 'max_word_go_past_time', 'max_word_mean_fix_dur', 'max_word_total_fix_dur', 'max_number_of_fixations', 'max_word_mean_sacc_dur', 'max_word_peak_sacc_velocity']\n",
    "else:\n",
    "    feature_names = feature_names \n",
    "print(feature_names)\n",
    "print(len(feature_names), \" features.\")"
   ]
  },
  {
   "cell_type": "code",
   "execution_count": 12,
   "id": "7e32bb07",
   "metadata": {},
   "outputs": [
    {
     "name": "stdout",
     "output_type": "stream",
     "text": [
      "7459 train samples.\n",
      "829 test samples.\n"
     ]
    }
   ],
   "source": [
    "# split data\n",
    "x_value = shuffled_samples[feature_names]\n",
    "y_value = shuffled_samples['label']\n",
    "        \n",
    "X_train, X_test, y_train, y_test = train_test_split(x_value, y_value, test_size=0.1)\n",
    "print(len(X_train), \"train samples.\")\n",
    "print(len(X_test), \"test samples.\")"
   ]
  },
  {
   "cell_type": "code",
   "execution_count": 13,
   "id": "29f2ba70",
   "metadata": {},
   "outputs": [],
   "source": [
    "# create df for X_test for misclassification\n",
    "\n",
    "df_test = X_test"
   ]
  },
  {
   "cell_type": "code",
   "execution_count": 14,
   "id": "31f5b52a",
   "metadata": {},
   "outputs": [],
   "source": [
    "# scale data\n",
    "scaling = MinMaxScaler(feature_range=(-1,1)).fit(X_train)\n",
    "X_train = scaling.transform(X_train) \n",
    "X_test = scaling.transform(X_test)"
   ]
  },
  {
   "cell_type": "markdown",
   "id": "165a43a3",
   "metadata": {},
   "source": [
    "## Classification Models"
   ]
  },
  {
   "cell_type": "code",
   "execution_count": 15,
   "id": "a687b08a",
   "metadata": {},
   "outputs": [],
   "source": [
    "# SVM grid search\n",
    "def grid_lin(X_train,y_train):\n",
    "\n",
    "    svc = svm.SVC(kernel='linear') \n",
    "\n",
    "    parameters = {'C': [0.1, 1, 10, 100], 'kernel': ['linear']}\n",
    "\n",
    "    clf_gs = GridSearchCV(svc, parameters)\n",
    "    clf_gs.fit(X_train, y_train.ravel())\n",
    "\n",
    "    print(clf_gs.best_estimator_, clf_gs.best_params_) \n",
    "\n",
    "    return"
   ]
  },
  {
   "cell_type": "code",
   "execution_count": 16,
   "id": "dad20b8e",
   "metadata": {},
   "outputs": [],
   "source": [
    "# run grid search\n",
    "#grid_lin(X_train,y_train)\n",
    "\n",
    "# trial level grid search results: SVC(C=100, kernel='linear') {'C': 100, 'kernel': 'linear'}\n",
    "# sentence level grid search results: SVC(C=100, kernel='linear') {'C': 100, 'kernel': 'linear'}"
   ]
  },
  {
   "cell_type": "code",
   "execution_count": 17,
   "id": "fffceea1",
   "metadata": {},
   "outputs": [],
   "source": [
    "# SVM classifier    \n",
    "clf = svm.SVC(kernel ='linear', C=100, probability=True)  \n",
    "\n",
    "clf.fit(X_train, y_train.ravel())\n",
    "y_pred = clf.predict(X_test)"
   ]
  },
  {
   "cell_type": "code",
   "execution_count": 18,
   "id": "8143a9a6",
   "metadata": {},
   "outputs": [
    {
     "name": "stdout",
     "output_type": "stream",
     "text": [
      "              precision    recall  f1-score   support\n",
      "\n",
      "non-dyslexic       0.80      0.86      0.83       421\n",
      "    dyslexic       0.84      0.78      0.81       408\n",
      "\n",
      "    accuracy                           0.82       829\n",
      "   macro avg       0.82      0.82      0.82       829\n",
      "weighted avg       0.82      0.82      0.82       829\n",
      "\n"
     ]
    }
   ],
   "source": [
    "# report precision, recall and f1 scores\n",
    "target_names = ['non-dyslexic', 'dyslexic']\n",
    "print(classification_report(y_test, y_pred, target_names=target_names))"
   ]
  },
  {
   "cell_type": "code",
   "execution_count": 35,
   "id": "eb9b9206",
   "metadata": {},
   "outputs": [
    {
     "data": {
      "text/plain": [
       "<sklearn.metrics._plot.confusion_matrix.ConfusionMatrixDisplay at 0x7fd31d7bd040>"
      ]
     },
     "execution_count": 35,
     "metadata": {},
     "output_type": "execute_result"
    },
    {
     "data": {
      "image/png": "[encoded data removed]",
      "text/plain": [
       "<Figure size 432x288 with 2 Axes>"
      ]
     },
     "metadata": {
      "needs_background": "light"
     },
     "output_type": "display_data"
    }
   ],
   "source": [
    "# confusion matrix\n",
    "cm = confusion_matrix(y_test, y_pred, labels = clf.classes_)\n",
    "cm_display = ConfusionMatrixDisplay(confusion_matrix = cm, display_labels = target_names)\n",
    "\n",
    "font = {'family' : 'normal',\n",
    "    'weight' : 'normal',\n",
    "    'size'   : 20}\n",
    "plt.rc('font', **font)\n",
    "\n",
    "cm_display.plot()\n"
   ]
  },
  {
   "cell_type": "code",
   "execution_count": 20,
   "id": "e6d9a686",
   "metadata": {},
   "outputs": [
    {
     "name": "stdout",
     "output_type": "stream",
     "text": [
      "\n",
      " Count of each misclassified participant: [('28', 15), ('07', 14), ('12', 13), ('24', 13), ('35', 13), ('40', 12), ('15', 11), ('10', 10), ('41', 8), ('23', 8), ('37', 6), ('25', 5), ('29', 4), ('03', 4), ('08', 3), ('16', 2), ('11', 2), ('19', 2), ('31', 2), ('36', 1), ('30', 1), ('39', 1), ('34', 1), ('38', 1)]\n"
     ]
    }
   ],
   "source": [
    "# identify misclassified data\n",
    "    \n",
    "incorrect_pred = X_test[y_pred != y_test]\n",
    "incorrect_pred_index = [i for i in range(len(y_pred)) if y_pred[i] != y_test[i]]\n",
    "\n",
    "each_mis = []\n",
    "for index in incorrect_pred_index:\n",
    "    each_mis.append(df_test.index[index])\n",
    "\n",
    "each_mis_ids = [x[:2] for x in each_mis]\n",
    "print(\"\\n Count of each misclassified participant:\", Counter(each_mis_ids).most_common())\n",
    "misclass_file = open(\"svm_\"+LEVEL+\"_level_misclassifications_std\"+str(st_dev_features)+\"_max\"+str(max_features)+\".txt\", \"a\")\n",
    "print(Counter(each_mis_ids).most_common(), file=misclass_file)\n",
    "misclass_file.close()"
   ]
  },
  {
   "cell_type": "code",
   "execution_count": 21,
   "id": "e99f73fb",
   "metadata": {},
   "outputs": [],
   "source": [
    "results_svm = classification_report(y_test, y_pred, target_names=target_names, output_dict=True)\n",
    "result_file = open(\"svm_\"+LEVEL+\"_level_results_std\"+str(st_dev_features)+\"_max\"+str(max_features)+\".txt\", \"a\")\n",
    "print(results_svm, file=result_file)\n",
    "result_file.close()"
   ]
  },
  {
   "cell_type": "code",
   "execution_count": 22,
   "id": "a4a7026c",
   "metadata": {},
   "outputs": [],
   "source": [
    "# Random forest grid search\n",
    "def gridsearch(X_train,y_train):\n",
    "    \"\"\"Grid search to tune RF parametres\"\"\"     \n",
    "    rf = RandomForestClassifier()\n",
    "    rf_params = {'n_estimators': [1, 10, 100, 200], 'max_depth': [1, 3, 5, 7, 9], 'max_features': ['sqrt', 'log2', 'auto']}\n",
    "    \n",
    "    clf_gs = GridSearchCV(rf, rf_params)\n",
    "  \n",
    "    clf_gs.fit(X_train, y_train.ravel())\n",
    "    \n",
    "    # print the grid search results\n",
    "    print(clf_gs.best_estimator_, clf_gs.best_params_)\n",
    "    "
   ]
  },
  {
   "cell_type": "code",
   "execution_count": 23,
   "id": "8122cd8e",
   "metadata": {},
   "outputs": [],
   "source": [
    "# run grid search\n",
    "#gridsearch(X_train,y_train)\n",
    "\n",
    "# trial level grid search results: RandomForestClassifier(max_depth=9, max_features='log2') {'max_depth': 9, 'max_features': 'log2', 'n_estimators': 100}\n",
    "# sentence level grid search results: RandomForestClassifier(max_depth=9, max_features='sqrt', n_estimators=200) {'max_depth': 9, 'max_features': 'sqrt', 'n_estimators': 200}\n"
   ]
  },
  {
   "cell_type": "code",
   "execution_count": 24,
   "id": "5b4c94e8",
   "metadata": {},
   "outputs": [],
   "source": [
    "# Random forest classifier\n",
    "clf = RandomForestClassifier(max_depth=9, max_features='sqrt', n_estimators=200)\n",
    "\n",
    "clf.fit(X_train, y_train.ravel())\n",
    "y_pred = clf.predict(X_test)"
   ]
  },
  {
   "cell_type": "code",
   "execution_count": 25,
   "id": "a2a9678a",
   "metadata": {},
   "outputs": [
    {
     "name": "stdout",
     "output_type": "stream",
     "text": [
      "              precision    recall  f1-score   support\n",
      "\n",
      "non-dyslexic       0.85      0.83      0.84       421\n",
      "    dyslexic       0.83      0.85      0.84       408\n",
      "\n",
      "    accuracy                           0.84       829\n",
      "   macro avg       0.84      0.84      0.84       829\n",
      "weighted avg       0.84      0.84      0.84       829\n",
      "\n"
     ]
    }
   ],
   "source": [
    "target_names = ['non-dyslexic', 'dyslexic']\n",
    "print(classification_report(y_test, y_pred, target_names=target_names))"
   ]
  },
  {
   "cell_type": "code",
   "execution_count": 26,
   "id": "2aa3289b",
   "metadata": {},
   "outputs": [
    {
     "data": {
      "text/plain": [
       "<sklearn.metrics._plot.confusion_matrix.ConfusionMatrixDisplay at 0x7fd33fb0f6a0>"
      ]
     },
     "execution_count": 26,
     "metadata": {},
     "output_type": "execute_result"
    },
    {
     "data": {
      "image/png": "[encoded data removed]",
      "text/plain": [
       "<Figure size 432x288 with 2 Axes>"
      ]
     },
     "metadata": {
      "needs_background": "light"
     },
     "output_type": "display_data"
    }
   ],
   "source": [
    "# confusion matrix\n",
    "cm = confusion_matrix(y_test, y_pred, labels = clf.classes_)\n",
    "cm_display = ConfusionMatrixDisplay(confusion_matrix = cm, display_labels = target_names)\n",
    "\n",
    "cm_display.plot()"
   ]
  },
  {
   "cell_type": "code",
   "execution_count": 27,
   "id": "36f0957d",
   "metadata": {},
   "outputs": [
    {
     "name": "stdout",
     "output_type": "stream",
     "text": [
      "\n",
      " Count of each misclassified participant: [('10', 22), ('12', 17), ('15', 11), ('35', 11), ('07', 8), ('28', 7), ('41', 7), ('37', 7), ('24', 7), ('40', 6), ('03', 4), ('25', 4), ('23', 4), ('16', 3), ('11', 3), ('29', 3), ('19', 2), ('08', 2), ('36', 1), ('30', 1), ('34', 1), ('31', 1), ('27', 1), ('38', 1)]\n"
     ]
    }
   ],
   "source": [
    "# identify misclassified data\n",
    "incorrect_pred = X_test[y_pred != y_test]\n",
    "incorrect_pred_index = [i for i in range(len(y_pred)) if y_pred[i] != y_test[i]]\n",
    "\n",
    "each_mis = []\n",
    "for index in incorrect_pred_index:\n",
    "    each_mis.append(df_test.index[index])\n",
    "\n",
    "each_mis_ids = [x[:2] for x in each_mis]\n",
    "print(\"\\n Count of each misclassified participant:\", Counter(each_mis_ids).most_common())\n",
    "misclass_file = open(\"rf_\"+LEVEL+\"_level_misclassifications_std\"+str(st_dev_features)+\"_max\"+str(max_features)+\".txt\", \"a\")\n",
    "print(Counter(each_mis_ids).most_common(), file=misclass_file)\n",
    "misclass_file.close()"
   ]
  },
  {
   "cell_type": "code",
   "execution_count": 28,
   "id": "957577be",
   "metadata": {},
   "outputs": [],
   "source": [
    "results_rf = classification_report(y_test, y_pred, target_names=target_names, output_dict=True)\n",
    "result_file = open(\"rf_\"+LEVEL+\"_level_results_std\"+str(st_dev_features)+\"_max\"+str(max_features)+\".txt\", \"a\")\n",
    "print(results_rf, file=result_file)\n",
    "result_file.close()"
   ]
  },
  {
   "cell_type": "markdown",
   "id": "16a477fb",
   "metadata": {},
   "source": [
    "## Clustering Model"
   ]
  },
  {
   "cell_type": "code",
   "execution_count": 29,
   "id": "f2da60fe",
   "metadata": {},
   "outputs": [
    {
     "name": "stdout",
     "output_type": "stream",
     "text": [
      "              precision    recall  f1-score   support\n",
      "\n",
      "non-dyslexic       0.68      0.86      0.76      4144\n",
      "    dyslexic       0.81      0.59      0.68      4144\n",
      "\n",
      "    accuracy                           0.72      8288\n",
      "   macro avg       0.74      0.72      0.72      8288\n",
      "weighted avg       0.74      0.72      0.72      8288\n",
      "\n"
     ]
    }
   ],
   "source": [
    "# k-means clustering\n",
    "from sklearn.cluster import KMeans\n",
    "\n",
    "# cluster on all data, no need for train/test split\n",
    "scaling = MinMaxScaler(feature_range=(-1,1)).fit(x_value)\n",
    "clus_data = scaling.transform(x_value) \n",
    "\n",
    "kmeans = KMeans(n_clusters=2)\n",
    "label = kmeans.fit_predict(clus_data)\n",
    "target_names = ['non-dyslexic', 'dyslexic']\n",
    "# compare cluster labels to ground truth\n",
    "print(classification_report(y_value, label, target_names=target_names))\n",
    "\n",
    "# cannot plot in 2D this because the features have more dimensions"
   ]
  },
  {
   "cell_type": "code",
   "execution_count": 30,
   "id": "7f7f555c",
   "metadata": {},
   "outputs": [],
   "source": [
    "# save clustering results\n",
    "results_cluster = classification_report(y_value, label, target_names=target_names, output_dict=True)\n",
    "result_file_cluster = open(\"kmeans_\"+LEVEL+\"_level_results_std\"+str(st_dev_features)+\"_max\"+str(max_features)+\".txt\", \"a\")\n",
    "print(results_cluster, file=result_file_cluster)\n",
    "result_file_cluster.close()\n"
   ]
  },
  {
   "cell_type": "code",
   "execution_count": 31,
   "id": "c4ff0556",
   "metadata": {},
   "outputs": [],
   "source": [
    "# tSNE visualization of high dimensional data\n",
    "from sklearn.manifold import TSNE\n",
    "\n",
    "tsne = TSNE(n_components=2, verbose=1)\n",
    "#z = tsne.fit_transform(clus_data) "
   ]
  },
  {
   "cell_type": "code",
   "execution_count": 32,
   "id": "f98a8fd4",
   "metadata": {},
   "outputs": [
    {
     "ename": "NameError",
     "evalue": "name 'z' is not defined",
     "output_type": "error",
     "traceback": [
      "\u001b[0;31m---------------------------------------------------------------------------\u001b[0m",
      "\u001b[0;31mNameError\u001b[0m                                 Traceback (most recent call last)",
      "\u001b[0;32m<ipython-input-32-e7d18c061a32>\u001b[0m in \u001b[0;36m<module>\u001b[0;34m\u001b[0m\n\u001b[1;32m      1\u001b[0m \u001b[0mdf\u001b[0m \u001b[0;34m=\u001b[0m \u001b[0mpd\u001b[0m\u001b[0;34m.\u001b[0m\u001b[0mDataFrame\u001b[0m\u001b[0;34m(\u001b[0m\u001b[0;34m)\u001b[0m\u001b[0;34m\u001b[0m\u001b[0;34m\u001b[0m\u001b[0m\n\u001b[1;32m      2\u001b[0m \u001b[0mdf\u001b[0m\u001b[0;34m[\u001b[0m\u001b[0;34m\"y\"\u001b[0m\u001b[0;34m]\u001b[0m \u001b[0;34m=\u001b[0m \u001b[0my_value\u001b[0m\u001b[0;34m\u001b[0m\u001b[0;34m\u001b[0m\u001b[0m\n\u001b[0;32m----> 3\u001b[0;31m \u001b[0mdf\u001b[0m\u001b[0;34m[\u001b[0m\u001b[0;34m\"comp-1\"\u001b[0m\u001b[0;34m]\u001b[0m \u001b[0;34m=\u001b[0m \u001b[0mz\u001b[0m\u001b[0;34m[\u001b[0m\u001b[0;34m:\u001b[0m\u001b[0;34m,\u001b[0m\u001b[0;36m0\u001b[0m\u001b[0;34m]\u001b[0m\u001b[0;34m\u001b[0m\u001b[0;34m\u001b[0m\u001b[0m\n\u001b[0m\u001b[1;32m      4\u001b[0m \u001b[0mdf\u001b[0m\u001b[0;34m[\u001b[0m\u001b[0;34m\"comp-2\"\u001b[0m\u001b[0;34m]\u001b[0m \u001b[0;34m=\u001b[0m \u001b[0mz\u001b[0m\u001b[0;34m[\u001b[0m\u001b[0;34m:\u001b[0m\u001b[0;34m,\u001b[0m\u001b[0;36m1\u001b[0m\u001b[0;34m]\u001b[0m\u001b[0;34m\u001b[0m\u001b[0;34m\u001b[0m\u001b[0m\n\u001b[1;32m      5\u001b[0m \u001b[0;34m\u001b[0m\u001b[0m\n",
      "\u001b[0;31mNameError\u001b[0m: name 'z' is not defined"
     ]
    }
   ],
   "source": [
    "df = pd.DataFrame()\n",
    "df[\"y\"] = y_value\n",
    "df[\"comp-1\"] = z[:,0]\n",
    "df[\"comp-2\"] = z[:,1]\n",
    "\n",
    "sns.scatterplot(x=\"comp-1\", y=\"comp-2\", hue=df.y.tolist(),\n",
    "                palette=sns.color_palette(\"hls\", 2),\n",
    "                data=df, legend=\"full\")\n"
   ]
  },
  {
   "cell_type": "code",
   "execution_count": null,
   "id": "31a87ab1",
   "metadata": {},
   "outputs": [],
   "source": []
  },
  {
   "cell_type": "code",
   "execution_count": null,
   "id": "13719b1b",
   "metadata": {},
   "outputs": [],
   "source": []
  }
 ],
 "metadata": {
  "kernelspec": {
   "display_name": "Python 3",
   "language": "python",
   "name": "python3"
  },
  "language_info": {
   "codemirror_mode": {
    "name": "ipython",
    "version": 3
   },
   "file_extension": ".py",
   "mimetype": "text/x-python",
   "name": "python",
   "nbconvert_exporter": "python",
   "pygments_lexer": "ipython3",
   "version": "3.9.1"
  }
 },
 "nbformat": 4,
 "nbformat_minor": 5
}
